{
 "cells": [
  {
   "cell_type": "code",
   "execution_count": 7,
   "id": "f35de354-b7c3-4656-871a-1644757e5124",
   "metadata": {},
   "outputs": [
    {
     "name": "stdout",
     "output_type": "stream",
     "text": [
      "Hello World\n"
     ]
    }
   ],
   "source": [
    "print(\"Hello World\")"
   ]
  },
  {
   "cell_type": "code",
   "execution_count": 8,
   "id": "db1d4b5b-74f5-4c94-b7a7-07207442cd76",
   "metadata": {},
   "outputs": [
    {
     "name": "stdout",
     "output_type": "stream",
     "text": [
      "value of a is  5 & value of b is  2\n"
     ]
    }
   ],
   "source": [
    "#  Basic python code\n",
    "\n",
    "a = 2\n",
    "b = 5\n",
    "\n",
    "temp = a \n",
    "a = b\n",
    "b = temp\n",
    "\n",
    "print(\"value of a is \",a,\"& value of b is \",b)"
   ]
  },
  {
   "cell_type": "code",
   "execution_count": 9,
   "id": "50fe2cc2-7978-484c-a228-393e735d3e4d",
   "metadata": {},
   "outputs": [
    {
     "name": "stdin",
     "output_type": "stream",
     "text": [
      "Enter the first number :  25\n",
      "Enter the second number :  35\n"
     ]
    },
    {
     "name": "stdout",
     "output_type": "stream",
     "text": [
      "Sum of 25.0 + 35.0 is  60.0\n"
     ]
    }
   ],
   "source": [
    "# Addition \n",
    "x = float(input(\"Enter the first number : \"))\n",
    "y = float(input(\"Enter the second number : \"))\n",
    "result = x + y\n",
    "print(f\"Sum of {x} + {y} is \",result)"
   ]
  },
  {
   "cell_type": "code",
   "execution_count": 10,
   "id": "edf64b8b-c014-4923-a435-e62d07370e13",
   "metadata": {},
   "outputs": [
    {
     "name": "stdin",
     "output_type": "stream",
     "text": [
      "Enter the first number :  10\n",
      "Enter the second number :  12\n"
     ]
    },
    {
     "name": "stdout",
     "output_type": "stream",
     "text": [
      "Sum of 10.0 + 12.0 is  0.8333333333333334\n"
     ]
    }
   ],
   "source": [
    "# Division \n",
    "x = float(input(\"Enter the first number : \"))\n",
    "y = float(input(\"Enter the second number : \"))\n",
    "if y==0:\n",
    "    print(\"Error, It showing infinite.....\")\n",
    "else:\n",
    "    result = x / y\n",
    "    print(f\"Sum of {x} + {y} is \",result)"
   ]
  },
  {
   "cell_type": "code",
   "execution_count": 12,
   "id": "7e78ab8e-3df9-4499-bb7a-048538b5303d",
   "metadata": {},
   "outputs": [
    {
     "name": "stdin",
     "output_type": "stream",
     "text": [
      "Enter the base of the triangle :  25\n",
      "Enter the height of the triangle :  12\n"
     ]
    },
    {
     "name": "stdout",
     "output_type": "stream",
     "text": [
      "Area of triangle which base 25.0 & height 12.0 is  150.0\n"
     ]
    }
   ],
   "source": [
    "# Find Area of triangle\n",
    "x = float(input(\"Enter the base of the triangle : \"))\n",
    "y = float(input(\"Enter the height of the triangle : \"))\n",
    "Area = 0.5 * x * y\n",
    "print(f\"Area of triangle which base {x} & height {y} is \",Area)"
   ]
  },
  {
   "cell_type": "code",
   "execution_count": 22,
   "id": "cc3140d0-3382-4a31-a5d0-7bd59769e19c",
   "metadata": {},
   "outputs": [
    {
     "name": "stdin",
     "output_type": "stream",
     "text": [
      "Enter the first number :  25\n",
      "Enter the second number :  21\n"
     ]
    },
    {
     "name": "stdout",
     "output_type": "stream",
     "text": [
      "Before Swap : value of  x is 25.0 & value of y is 21.0\n",
      "\n",
      "After Swap : value of  x is 21.0 & value of y is 25.0\n",
      "After Swap : value of  x is 25.0 & value of y is 21.0\n",
      "After Swap : value of  x is 21.0 & value of y is 25.0\n",
      "After Swap : value of  x is 25.0 & value of y is 21.0\n"
     ]
    }
   ],
   "source": [
    "# Swap\n",
    "x = float(input(\"Enter the first number : \"))\n",
    "y = float(input(\"Enter the second number : \"))\n",
    "\n",
    "print(f\"Before Swap : value of  x is {x} & value of y is {y}\")\n",
    "# First method by using temp\n",
    "temp = x\n",
    "x = y\n",
    "y = temp\n",
    "print(f\"\\nAfter Swap : value of  x is {x} & value of y is {y}\")\n",
    "\n",
    "# Second method by Arithmetic operation\n",
    "x = x + y\n",
    "y = x - y\n",
    "x = x - y\n",
    "print(f\"After Swap : value of  x is {x} & value of y is {y}\")\n",
    "\n",
    "# Third method by using Arithmetic operation(*, //)\n",
    "x = x * y\n",
    "y = x // y\n",
    "x = x // y\n",
    "print(f\"After Swap : value of  x is {x} & value of y is {y}\")\n",
    "\n",
    "# Fourth method by using Tuple Packing/ UnPacking\n",
    "x,y = y,x\n",
    "print(f\"After Swap : value of  x is {x} & value of y is {y}\")"
   ]
  },
  {
   "cell_type": "code",
   "execution_count": 29,
   "id": "f903d99e-4703-4867-a47f-da2600981ac9",
   "metadata": {},
   "outputs": [
    {
     "name": "stdout",
     "output_type": "stream",
     "text": [
      "Random Number generated : 26\n"
     ]
    }
   ],
   "source": [
    "# generating Random number\n",
    "import random\n",
    "print(f\"Random Number generated : {random.randint(1,50)}\")\n"
   ]
  },
  {
   "cell_type": "code",
   "execution_count": 30,
   "id": "0eb01b28-74ca-4a28-80eb-92f9700764a4",
   "metadata": {},
   "outputs": [
    {
     "name": "stdin",
     "output_type": "stream",
     "text": [
      "Enter the number :  100\n"
     ]
    },
    {
     "name": "stdout",
     "output_type": "stream",
     "text": [
      "100.0 Kilometers is eqal to 62.3 miles\n"
     ]
    }
   ],
   "source": [
    "# Conversion KM to MILES\n",
    "\n",
    "KM = float(input(\"Enter the distnace in Km : \"))\n",
    "# 1 km = 0.623 miles, or 1 miles = 1.5km (approx)\n",
    "conversion = 0.623\n",
    "\n",
    "Miles = KM * conversion\n",
    "print(f\"{KM} Kilometers is eqal to {Miles} miles\")"
   ]
  },
  {
   "cell_type": "code",
   "execution_count": 34,
   "id": "c2d3d4d6-75f7-49f5-b964-8e54a895cff8",
   "metadata": {},
   "outputs": [
    {
     "name": "stdin",
     "output_type": "stream",
     "text": [
      "Enter the year :  2024\n",
      "Enter the month :  09\n",
      "Enter the day :  16\n"
     ]
    },
    {
     "name": "stdout",
     "output_type": "stream",
     "text": [
      "   September 2024\n",
      "Mo Tu We Th Fr Sa Su\n",
      "                   1\n",
      " 2  3  4  5  6  7  8\n",
      " 9 10 11 12 13 14 15\n",
      "16 17 18 19 20 21 22\n",
      "23 24 25 26 27 28 29\n",
      "30\n",
      "\n",
      "                                                    September 2024\n",
      "     Monday          Tuesday         Wednesday         Thursday          Friday          Saturday          Sunday\n",
      "                                                                                                              1\n",
      "        2                3                4                5                6                7                8\n",
      "        9               10               11               12               13               14               15\n",
      "       16               17               18               19               20               21               22\n",
      "       23               24               25               26               27               28               29\n",
      "       30\n",
      "\n"
     ]
    }
   ],
   "source": [
    "# Display Calendar\n",
    "import calendar\n",
    "year = int(input(\"Enter the year : \"))\n",
    "month = int(input(\"Enter the month : \"))\n",
    "day = int(input(\"Enter the day : \"))\n",
    "\n",
    "result = calendar.month(year,month)\n",
    "print(result)\n",
    "\n",
    "result = calendar.month(year,month,day)\n",
    "print(result)"
   ]
  },
  {
   "cell_type": "code",
   "execution_count": 3,
   "id": "68f7ab3f-633d-4cdf-abfa-bded08822e1b",
   "metadata": {},
   "outputs": [
    {
     "name": "stdin",
     "output_type": "stream",
     "text": [
      "Enter the first coefficient :  1\n",
      "Enter the second coefficient :  4\n",
      "Enter the first coefficient :  8\n"
     ]
    },
    {
     "name": "stdout",
     "output_type": "stream",
     "text": [
      "Root 1: -2.0 + 2.0i\n",
      "Root 2: -2.0 - 2.0i\n"
     ]
    }
   ],
   "source": [
    "# Solve quadratic equation\n",
    "#  The Standard form of a quadrtic equation is\n",
    "# ax^2 + bx + c =0 where a,b & c are real number and a !=0\n",
    "#  solution of this quadratic equation is given by: (-b+- (b^2 - 4ac)1/2)/(2a)\n",
    "\n",
    "import math\n",
    "a = float(input(\"Enter the first coefficient : \"))\n",
    "b = float(input(\"Enter the second coefficient : \"))\n",
    "c = float(input(\"Enter the first coefficient : \"))\n",
    "\n",
    "D = b**2 - 4*a*c # (Finding : Discriminant)\n",
    "if D > 0:\n",
    "    root1 = (-b + math.sqrt(2*a)) / (2*a)\n",
    "    root2 = (-b - math.sqrt(2*a)) / (2*a)\n",
    "    print(f\"Root1 is {root1}\")\n",
    "    print(f\"Root2 is {root2}\")\n",
    "\n",
    "elif D == 0:\n",
    "    root = -b/(2*a)\n",
    "    print(f\"Root : {root}\")\n",
    "\n",
    "else:\n",
    "    real_part = -b/(2*a)\n",
    "    img_part = math.sqrt(abs(D)) / (2*a)\n",
    "    print(f\"Root 1: {real_part} + {img_part}i\")\n",
    "    print(f\"Root 2: {real_part} - {img_part}i\")"
   ]
  },
  {
   "cell_type": "code",
   "execution_count": 6,
   "id": "d279054b-4ce4-4840-999a-75a1aa2c6271",
   "metadata": {},
   "outputs": [
    {
     "name": "stdin",
     "output_type": "stream",
     "text": [
      "Enter the Number :  -58\n"
     ]
    },
    {
     "name": "stdout",
     "output_type": "stream",
     "text": [
      "-58 is Negative Number\n"
     ]
    }
   ],
   "source": [
    "# Check number is Positive, Negative or Zero\n",
    "\n",
    "n = int(input(\"Enter the Number : \"))\n",
    "\n",
    "if n>0:\n",
    "    print(f\"{n} is Positive Number\")\n",
    "    \n",
    "elif n==0:\n",
    "    print(f\"{n} number is equal to zero..\")\n",
    "\n",
    "else:\n",
    "    print(f\"{n} is Negative Number\")"
   ]
  },
  {
   "cell_type": "code",
   "execution_count": 8,
   "id": "1eca08a1-ff6a-4af4-af4a-e219060db3e8",
   "metadata": {},
   "outputs": [
    {
     "name": "stdin",
     "output_type": "stream",
     "text": [
      "Enter the Number :  24\n"
     ]
    },
    {
     "name": "stdout",
     "output_type": "stream",
     "text": [
      "24 is Even Number\n"
     ]
    }
   ],
   "source": [
    "# Check Number is Odd or Even\n",
    "\n",
    "n = int(input(\"Enter the Number : \"))\n",
    "\n",
    "if (n%2==0):\n",
    "    print(f\"{n} is Even Number\")\n",
    "    \n",
    "else :\n",
    "    print(f\"{n} is Odd Number..\")"
   ]
  },
  {
   "cell_type": "code",
   "execution_count": 12,
   "id": "5dca3c00-fbd5-49b5-bb16-418d92fcfddf",
   "metadata": {},
   "outputs": [
    {
     "name": "stdin",
     "output_type": "stream",
     "text": [
      "Enter the Year :  8\n"
     ]
    },
    {
     "name": "stdout",
     "output_type": "stream",
     "text": [
      "8 is a leap year\n"
     ]
    }
   ],
   "source": [
    "# Check Leap Year\n",
    "\n",
    "Year = int(input(\"Enter the Year : \"))\n",
    "\n",
    "if (Year % 400 == 0) and (Year % 100 == 0):\n",
    "    print(\"{0} is a leap year\".format(Year))\n",
    "\n",
    "elif (Year % 4 == 0) and (Year % 100 !=0):\n",
    "    print(\"{0} is a leap year\".format(Year))\n",
    "\n",
    "else:\n",
    "    print(\"{0} is not a leap year\".format(Year))"
   ]
  },
  {
   "cell_type": "code",
   "execution_count": 21,
   "id": "a953d554-c2ad-498f-92cf-39d988e74063",
   "metadata": {},
   "outputs": [
    {
     "name": "stdin",
     "output_type": "stream",
     "text": [
      "Enter the Number :  7\n"
     ]
    },
    {
     "name": "stdout",
     "output_type": "stream",
     "text": [
      "7, is a prime number\n"
     ]
    }
   ],
   "source": [
    "# Check Number is Prime or not\n",
    "\n",
    "n = int(input(\"Enter the Number : \"))\n",
    "\n",
    "flag = False\n",
    "\n",
    "if n == 1:\n",
    "    print(f\"{n} is not a prime number..\")\n",
    "\n",
    "elif n > 1:\n",
    "    for i in range(2,n):\n",
    "        if(n % i) == 0:\n",
    "            flag = True\n",
    "            break\n",
    "if flag:\n",
    "    print(f\"{n}, is not a prime number\")\n",
    "else:\n",
    "    print(f\"{n}, is a prime number\")"
   ]
  },
  {
   "cell_type": "code",
   "execution_count": 2,
   "id": "39bc18a5-dbc8-4840-b33f-69755416fd49",
   "metadata": {},
   "outputs": [
    {
     "name": "stdout",
     "output_type": "stream",
     "text": [
      "Prime numbers between 1  and  100  are : \n",
      "2\n",
      "3\n",
      "5\n",
      "7\n",
      "11\n",
      "13\n",
      "17\n",
      "19\n",
      "23\n",
      "29\n",
      "31\n",
      "37\n",
      "41\n",
      "43\n",
      "47\n",
      "53\n",
      "59\n",
      "61\n",
      "67\n",
      "71\n",
      "73\n",
      "79\n",
      "83\n",
      "89\n",
      "97\n"
     ]
    }
   ],
   "source": [
    "# Print all prime number is an interval of 1-100\n",
    "\n",
    "low = 1\n",
    "high = 100\n",
    "\n",
    "print(\"Prime numbers between\",low,\" and \",high,\"are : \")\n",
    "\n",
    "for num in range(low,high+1):\n",
    "    if num > 1:\n",
    "        for i in range(2,num):\n",
    "            if(num % i) == 0:\n",
    "                break\n",
    "        else:\n",
    "            print(num)\n",
    "\n"
   ]
  },
  {
   "cell_type": "code",
   "execution_count": 4,
   "id": "39576f55-c7db-461c-a267-337baf840427",
   "metadata": {},
   "outputs": [
    {
     "name": "stdin",
     "output_type": "stream",
     "text": [
      "Enter the number :  5\n"
     ]
    },
    {
     "name": "stdout",
     "output_type": "stream",
     "text": [
      "The Factorial of 5 is 120\n"
     ]
    }
   ],
   "source": [
    "# Factorial of a number\n",
    "\n",
    "n = int(input(\"Enter the number : \"))\n",
    "fact = 1\n",
    "\n",
    "if n < 0:\n",
    "    print(\"Factorial doesn't exist for negative number....\")\n",
    "elif (n == 0 or n==1):\n",
    "    print(\"Factorial of 0 & 1 is 1\")\n",
    "\n",
    "else:\n",
    "    for i in range(1,n+1):\n",
    "        fact = fact*i\n",
    "    print(f\"The Factorial of {n} is {fact}\")"
   ]
  },
  {
   "cell_type": "code",
   "execution_count": 13,
   "id": "6c437de9-1c78-494a-9370-6dbcf5e2f813",
   "metadata": {},
   "outputs": [
    {
     "name": "stdin",
     "output_type": "stream",
     "text": [
      "Enter the number :  12\n"
     ]
    },
    {
     "name": "stdout",
     "output_type": "stream",
     "text": [
      "Table of : 12\n",
      "12 * 1 = 12\n",
      "12 * 2 = 24\n",
      "12 * 3 = 36\n",
      "12 * 4 = 48\n",
      "12 * 5 = 60\n",
      "12 * 6 = 72\n",
      "12 * 7 = 84\n",
      "12 * 8 = 96\n",
      "12 * 9 = 108\n",
      "12 * 10 = 120\n"
     ]
    }
   ],
   "source": [
    "# Multiplication Table\n",
    "\n",
    "n = int(input(\"Enter the number : \"))\n",
    "print(f\"Table of : {n}\")\n",
    "for i in range(1,11):\n",
    "    print(f\"{n} * {i} = {n*i}\")"
   ]
  },
  {
   "cell_type": "code",
   "execution_count": 16,
   "id": "07ab86a8-44f4-4025-81df-8975df0c2ecd",
   "metadata": {},
   "outputs": [
    {
     "name": "stdin",
     "output_type": "stream",
     "text": [
      "Enter the Number for fibonacci :-  9\n"
     ]
    },
    {
     "name": "stdout",
     "output_type": "stream",
     "text": [
      "Fibonacci number of 9 is  34\n"
     ]
    }
   ],
   "source": [
    "# Fibinacci Number\n",
    "\n",
    "import math\n",
    "def fibo(x):\n",
    "    if(x==0):\n",
    "        return 0\n",
    "    elif(x==1):\n",
    "        return 1\n",
    "    else:\n",
    "        return (fibo(x-1)+fibo(x-2))\n",
    "x=int(input(\"Enter the Number for fibonacci :- \"))\n",
    "print(f\"Fibonacci number of {x} is \",fibo(x))"
   ]
  },
  {
   "cell_type": "code",
   "execution_count": 20,
   "id": "83e5a2b9-a658-4a13-91c8-b1cadf8544f9",
   "metadata": {},
   "outputs": [
    {
     "name": "stdin",
     "output_type": "stream",
     "text": [
      "Enter the number :  9474\n"
     ]
    },
    {
     "name": "stdout",
     "output_type": "stream",
     "text": [
      "9474 is an Armstrong number...\n"
     ]
    }
   ],
   "source": [
    "# Armstrong Number\n",
    "\n",
    "n = int(input(\"Enter the number : \"))\n",
    "\n",
    "num_str = str(n)\n",
    "num_digits = len(num_str)\n",
    "\n",
    "Sum = 0\n",
    "temp = n\n",
    "\n",
    "while temp:\n",
    "    digit = temp % 10\n",
    "    Sum = Sum + digit ** num_digits\n",
    "    temp //= 10\n",
    "    \n",
    "# Checking the Armstrong number\n",
    "\n",
    "if Sum == n:\n",
    "    print(f\"{n} is an Armstrong number...\")\n",
    "else:\n",
    "    print(f\"{n} is not an Armstrong Number....\")"
   ]
  },
  {
   "cell_type": "code",
   "execution_count": 22,
   "id": "5b7c0108-0ccf-4692-acd5-5b791dac72d7",
   "metadata": {},
   "outputs": [
    {
     "name": "stdin",
     "output_type": "stream",
     "text": [
      "Enter the lower limit of the interval :  10\n",
      "Enter the high limit of the interval :  1100\n"
     ]
    },
    {
     "name": "stdout",
     "output_type": "stream",
     "text": [
      "153\n",
      "370\n",
      "371\n",
      "407\n"
     ]
    }
   ],
   "source": [
    "# Armstrong Number in an interval\n",
    "\n",
    "low = int(input(\"Enter the lower limit of the interval : \"))\n",
    "high = int(input(\"Enter the high limit of the interval : \"))\n",
    "\n",
    "for num in range(low, high + 1):\n",
    "    order = len(str(num))\n",
    "    temp = num \n",
    "    Sum = 0\n",
    "\n",
    "    while temp > 0:\n",
    "        digit = temp % 10\n",
    "        Sum = Sum + digit ** order\n",
    "        temp //= 10\n",
    "    if num == Sum:\n",
    "        print(num)\n",
    "\n",
    "# Enter the lower limit of the interval :  10 (Starting number)\n",
    "# Enter the high limit of the interval :  1100 (Last number)"
   ]
  },
  {
   "cell_type": "code",
   "execution_count": 23,
   "id": "363b7f17-ad29-4b92-8913-34f29ec7b7bf",
   "metadata": {},
   "outputs": [
    {
     "name": "stdin",
     "output_type": "stream",
     "text": [
      "Enter the number :  5\n"
     ]
    },
    {
     "name": "stdout",
     "output_type": "stream",
     "text": [
      "Sum of natural numbers up to  5 is  15\n"
     ]
    }
   ],
   "source": [
    "# Sum of Natural Number\n",
    "\n",
    "n = int(input(\"Enter the number : \"))\n",
    "sum = 0\n",
    "for i in range(1,n+1):\n",
    "    sum = sum + i\n",
    "print(\"Sum of natural numbers up to \",n,\"is \",sum)"
   ]
  },
  {
   "cell_type": "code",
   "execution_count": null,
   "id": "191edda1-d9fa-4913-ba70-9d8386cc021f",
   "metadata": {},
   "outputs": [],
   "source": []
  }
 ],
 "metadata": {
  "kernelspec": {
   "display_name": "Python 3 (ipykernel)",
   "language": "python",
   "name": "python3"
  },
  "language_info": {
   "codemirror_mode": {
    "name": "ipython",
    "version": 3
   },
   "file_extension": ".py",
   "mimetype": "text/x-python",
   "name": "python",
   "nbconvert_exporter": "python",
   "pygments_lexer": "ipython3",
   "version": "3.12.4"
  }
 },
 "nbformat": 4,
 "nbformat_minor": 5
}
